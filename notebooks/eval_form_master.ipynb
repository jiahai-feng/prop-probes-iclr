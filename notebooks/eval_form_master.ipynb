{
 "cells": [
  {
   "cell_type": "code",
   "execution_count": null,
   "id": "f3e80ff8-114e-4663-9621-4583694f128b",
   "metadata": {
    "tags": [
     "parameters"
    ]
   },
   "outputs": [],
   "source": [
    "MODEL_TAG = \"tulu-2-13b\"\n",
    "NUM_DEVICES = 4\n",
    "IS_HF = True\n",
    "\n",
    "template_tag = 'NameCountryTemplate'\n",
    "chat_style = 'tulu_chat'\n",
    "\n",
    "form_path = ''\n",
    "form_type = 'hessian_1_1'\n",
    "\n",
    "output_dir = ''"
   ]
  },
  {
   "cell_type": "code",
   "execution_count": null,
   "id": "345d9d1a-e658-4c01-a51c-ac2133e938e3",
   "metadata": {},
   "outputs": [],
   "source": [
    "from importlib import reload\n",
    "import os\n",
    "from pathlib import Path\n",
    "import json\n",
    "from coref import COREF_ROOT\n",
    "from coref.utils import cache\n",
    "from functools import partial\n",
    "import itertools\n",
    "\n",
    "import torch\n",
    "\n",
    "import coref.models as models\n",
    "import coref.experiments.triplet_expts as te\n",
    "import coref.datasets.templates.triplet as tt"
   ]
  },
  {
   "cell_type": "code",
   "execution_count": null,
   "id": "8a267a3e-77b6-4ffa-b6af-b4c02fae4f78",
   "metadata": {},
   "outputs": [],
   "source": [
    "import seaborn as sns"
   ]
  },
  {
   "cell_type": "code",
   "execution_count": null,
   "id": "3876453a-8dd4-47a8-a618-7778fa6b064f",
   "metadata": {},
   "outputs": [],
   "source": [
    "from functools import partial\n",
    "import numpy as np\n",
    "import torch\n",
    "import einops\n",
    "\n",
    "import coref.datasets.templates.simple as ts\n",
    "import coref.datasets.templates.common as tc\n",
    "import coref.datasets.templates.triplet as tt\n",
    "import coref.datasets.api as ta\n",
    "import coref.parameters as p\n",
    "import coref.datascience as ds\n",
    "import coref.expt_utils as eu\n",
    "import coref.injection_interventions as ii\n",
    "import coref.eval_subspace as ess\n",
    "import coref.form_processors"
   ]
  },
  {
   "cell_type": "code",
   "execution_count": null,
   "id": "a0ded697-98b6-4497-aa08-01246d85801c",
   "metadata": {},
   "outputs": [],
   "source": [
    "output_dir = Path(output_dir)"
   ]
  },
  {
   "cell_type": "code",
   "execution_count": null,
   "id": "b8c3fea8-5873-4d1f-bda9-2a4f5e11c91c",
   "metadata": {},
   "outputs": [],
   "source": [
    "source_context = [\n",
    "    tc.Statement(0, 0),\n",
    "    tc.Statement(1, 1),\n",
    "]"
   ]
  },
  {
   "cell_type": "code",
   "execution_count": null,
   "id": "96fc4ae2-d6e4-4388-999e-81e9487697d5",
   "metadata": {},
   "outputs": [],
   "source": [
    "\n",
    "train_template = ta.get_template(template_tag)('llama')\n",
    "test_template = ta.get_template(template_tag)('llama')\n"
   ]
  },
  {
   "cell_type": "code",
   "execution_count": null,
   "id": "c8a4a4bb-d1f3-422c-8854-abae56d35e77",
   "metadata": {},
   "outputs": [],
   "source": [
    "\n",
    "model = models.fetch_model(MODEL_TAG, num_devices=NUM_DEVICES, dtype=torch.bfloat16, hf=IS_HF)"
   ]
  },
  {
   "cell_type": "code",
   "execution_count": null,
   "id": "211fe918-12c1-42e8-9dac-efc71b84bfcc",
   "metadata": {},
   "outputs": [],
   "source": [
    "if form_type == 'random':\n",
    "    form = coref.form_processors.random_form(model.cfg.d_model)\n",
    "else:\n",
    "    form = torch.load(form_path)\n",
    "    form = coref.form_processors.process_form(form, form_type)"
   ]
  },
  {
   "cell_type": "code",
   "execution_count": null,
   "id": "a2c2590e-6a99-47c4-8bf5-1e6d7c61bfd6",
   "metadata": {},
   "outputs": [],
   "source": [
    "eval_subspace = partial(ess.eval_subspace, model=model, chat_style=chat_style, test_template=test_template, verbose=True)"
   ]
  },
  {
   "cell_type": "code",
   "execution_count": null,
   "id": "420c6318-0d00-4777-95be-b94e8525e0de",
   "metadata": {},
   "outputs": [],
   "source": [
    "ax = sns.lineplot(x=np.arange(1000), y=form.S[:1000].cpu().numpy())\n",
    "ax.set(yscale='log')"
   ]
  },
  {
   "cell_type": "code",
   "execution_count": null,
   "id": "646ab5bd-89ec-4211-b634-b5ce2b301cea",
   "metadata": {},
   "outputs": [],
   "source": [
    "all_dims = [1, 3, 15, 50, 250, 1000, 5120]"
   ]
  },
  {
   "cell_type": "markdown",
   "id": "30a43ad8-bb82-4a1d-906a-3e48efdede96",
   "metadata": {},
   "source": [
    "## Name Swaps"
   ]
  },
  {
   "cell_type": "code",
   "execution_count": null,
   "id": "33c3c531-0a65-47f4-806c-a07ca3e70438",
   "metadata": {
    "tags": []
   },
   "outputs": [],
   "source": [
    "all_metrics = []\n",
    "all_data = []\n",
    "for dim in all_dims:\n",
    "    print(f'### Evaluating dimensions {dim}')\n",
    "    metrics, data = eval_subspace(form.U[..., :dim].to(torch.bfloat16), 'name')\n",
    "    all_metrics.extend([\n",
    "        {**m, 'dim':dim}\n",
    "        for m in metrics\n",
    "    ])\n",
    "    all_data.extend([\n",
    "        {**d, 'dim':dim}\n",
    "        for d in data\n",
    "    ])"
   ]
  },
  {
   "cell_type": "code",
   "execution_count": null,
   "id": "9d163930-a5d6-45c0-8d98-87d2d8e9ca54",
   "metadata": {},
   "outputs": [],
   "source": [
    "with open(output_dir / 'name_metrics.json', 'w') as f:\n",
    "    json.dump(all_metrics, f)\n",
    "torch.save(all_data, output_dir / 'name_data.pt')"
   ]
  },
  {
   "cell_type": "markdown",
   "id": "8102f7d7-7fec-41af-ae79-06abf7d62439",
   "metadata": {},
   "source": [
    "## Attr swaps"
   ]
  },
  {
   "cell_type": "code",
   "execution_count": null,
   "id": "6c2c39fd-904a-4c52-b7f5-c185207f1ffc",
   "metadata": {
    "tags": []
   },
   "outputs": [],
   "source": [
    "all_metrics = []\n",
    "all_data = []\n",
    "for dim in all_dims:\n",
    "    print(f'### Evaluating dimensions {dim}')\n",
    "    metrics, data = eval_subspace(form.Vh.T[:, :dim].to(torch.bfloat16), 'attr')\n",
    "    all_metrics.extend([\n",
    "        {**m, 'dim':dim}\n",
    "        for m in metrics\n",
    "    ])\n",
    "    all_data.extend([\n",
    "        {**d, 'dim':dim}\n",
    "        for d in data\n",
    "    ])"
   ]
  },
  {
   "cell_type": "code",
   "execution_count": null,
   "id": "b64717c4-eb67-4fb0-bb84-898ea3df87db",
   "metadata": {},
   "outputs": [],
   "source": [
    "with open(output_dir / 'attr_metrics.json', 'w') as f:\n",
    "    json.dump(all_metrics, f)\n",
    "torch.save(all_data, output_dir / 'attr_data.pt')"
   ]
  },
  {
   "cell_type": "markdown",
   "id": "b8ec13ef-72a9-4391-8810-9d8a404fb5d2",
   "metadata": {},
   "source": [
    "## Qualitative"
   ]
  },
  {
   "cell_type": "code",
   "execution_count": null,
   "id": "d079ea62-2f11-40d6-ae8e-1d1fb29d11c9",
   "metadata": {},
   "outputs": [],
   "source": [
    "import coref.plotting as cplot"
   ]
  },
  {
   "cell_type": "code",
   "execution_count": null,
   "id": "49dd474d-3d29-403b-84c6-65d91ddc7339",
   "metadata": {},
   "outputs": [],
   "source": [
    "cross_attn_ctxt = cplot.prep_plot_cross_attention(\n",
    "    model=model,\n",
    "    template=test_template,\n",
    "    template_content=dict(query_name=0, chat_style=chat_style),\n",
    "    content_context=source_context,\n",
    ")"
   ]
  },
  {
   "cell_type": "code",
   "execution_count": null,
   "id": "3521dc4e-4c2d-4d0e-8c43-cb7c075967a0",
   "metadata": {},
   "outputs": [],
   "source": [
    "plot_data = cplot.plot_cross_attention(dict(\n",
    "    **cross_attn_ctxt,\n",
    "    form=form.form\n",
    "))"
   ]
  },
  {
   "cell_type": "code",
   "execution_count": null,
   "id": "ed83279d-b618-4ff7-97e4-c1636945c2f8",
   "metadata": {},
   "outputs": [],
   "source": [
    "torch.save(plot_data, output_dir / 'serial_full.pt')"
   ]
  },
  {
   "cell_type": "code",
   "execution_count": null,
   "id": "9276b7a8-8a60-462a-b2ea-f9f42cb65e71",
   "metadata": {},
   "outputs": [],
   "source": [
    "plot_data = cplot.plot_cross_attention(dict(\n",
    "    **cross_attn_ctxt,\n",
    "    form=form.U[:, :50] @ form.U[:, :50].T,\n",
    "    plot_style='rocket'\n",
    "))"
   ]
  },
  {
   "cell_type": "code",
   "execution_count": null,
   "id": "f58bca2e-bf0e-46c6-a692-4f5793647523",
   "metadata": {},
   "outputs": [],
   "source": [
    "plot_data = cplot.plot_cross_attention(dict(\n",
    "    **cross_attn_ctxt,\n",
    "    form=form.U[:, :50] * form.S[:50].pow(2) @ form.U[:, :50].T,\n",
    "    plot_style='rocket'\n",
    "))"
   ]
  },
  {
   "cell_type": "code",
   "execution_count": null,
   "id": "3a90954b-4c37-49af-bde5-9401f3dc06e2",
   "metadata": {},
   "outputs": [],
   "source": [
    "torch.save(plot_data, output_dir / 'serial_u2.pt')"
   ]
  },
  {
   "cell_type": "code",
   "execution_count": null,
   "id": "20e48dd6-09ae-43d4-82b6-2ae30ad634d4",
   "metadata": {},
   "outputs": [],
   "source": [
    "plot_data = cplot.plot_cross_attention(dict(\n",
    "    **cross_attn_ctxt,\n",
    "    form=form.Vh.T[:, :50] @ form.Vh.T[:, :50].T,\n",
    "    plot_style='rocket'\n",
    "))"
   ]
  },
  {
   "cell_type": "code",
   "execution_count": null,
   "id": "61864c6c-1ebe-4367-85d4-12fb26ba5caa",
   "metadata": {},
   "outputs": [],
   "source": [
    "plot_data = cplot.plot_cross_attention(dict(\n",
    "    **cross_attn_ctxt,\n",
    "    form=form.Vh.T[:, :50] * form.S[:50].pow(2) @ form.Vh.T[:, :50].T,\n",
    "    plot_style='rocket'\n",
    "))"
   ]
  },
  {
   "cell_type": "code",
   "execution_count": null,
   "id": "c78c4ab8-550a-40da-95ab-5611c9ce80ae",
   "metadata": {},
   "outputs": [],
   "source": [
    "plot_data = cplot.plot_cross_attention(dict(\n",
    "    **cross_attn_ctxt,\n",
    "    form=form.U[:, :50]* form.S[:50] @ form.Vh.T[:, :50].T\n",
    "))"
   ]
  },
  {
   "cell_type": "code",
   "execution_count": null,
   "id": "b2f10d65-c42a-44ba-b3b5-ea3b9a1c163d",
   "metadata": {},
   "outputs": [],
   "source": [
    "torch.save(plot_data, output_dir / 'serial_50.pt')"
   ]
  },
  {
   "cell_type": "code",
   "execution_count": null,
   "id": "9a854803-c869-42ba-956b-c8321550e59f",
   "metadata": {},
   "outputs": [],
   "source": [
    "cplot.plot_cross_attention(dict(\n",
    "    **cross_attn_ctxt,\n",
    "    form=form.U[:, :50] @ form.Vh.T[:, :50].T\n",
    "))"
   ]
  },
  {
   "cell_type": "markdown",
   "id": "0a21835e-d4a2-42df-a3a2-0ebff8134184",
   "metadata": {},
   "source": [
    "### parallel"
   ]
  },
  {
   "cell_type": "code",
   "execution_count": null,
   "id": "f98dbf7d-79bd-4c5b-a3d8-4942a315e9c1",
   "metadata": {},
   "outputs": [],
   "source": [
    "cross_attn_ctxt = cplot.prep_plot_cross_attention(\n",
    "    model=model,\n",
    "    template=test_template,\n",
    "    template_content=dict(query_name=0, chat_style=chat_style),\n",
    "    content_context=[tc.Statement([0,1], [0,1], 'parallel')],\n",
    ")"
   ]
  },
  {
   "cell_type": "code",
   "execution_count": null,
   "id": "60c23471-74ba-412a-8c84-e69f082fa5ef",
   "metadata": {},
   "outputs": [],
   "source": [
    "plot_data = cplot.plot_cross_attention(dict(\n",
    "    **cross_attn_ctxt,\n",
    "    form=form.form\n",
    "))"
   ]
  },
  {
   "cell_type": "code",
   "execution_count": null,
   "id": "2a2c2f97-6508-465f-89fb-4e2fd15777b6",
   "metadata": {},
   "outputs": [],
   "source": [
    "torch.save(plot_data, output_dir / 'parallel_full.pt')"
   ]
  },
  {
   "cell_type": "code",
   "execution_count": null,
   "id": "7231e277-ed26-49cf-a641-140881d6cc13",
   "metadata": {},
   "outputs": [],
   "source": [
    "plot_data = cplot.plot_cross_attention(dict(\n",
    "    **cross_attn_ctxt,\n",
    "    form=form.U[:, :50] * form.S[:50].pow(2) @ form.U[:, :50].T,\n",
    "    plot_style='rocket'\n",
    "))"
   ]
  },
  {
   "cell_type": "code",
   "execution_count": null,
   "id": "0398589c-bef9-45b5-b328-c5aa7e4282bf",
   "metadata": {},
   "outputs": [],
   "source": [
    "torch.save(plot_data, output_dir / 'parallel_u2.pt')"
   ]
  },
  {
   "cell_type": "code",
   "execution_count": null,
   "id": "3afbb217-3791-4a24-867c-14a3f46ed999",
   "metadata": {},
   "outputs": [],
   "source": [
    "plot_data = cplot.plot_cross_attention(dict(\n",
    "    **cross_attn_ctxt,\n",
    "    form=form.U[:, :50]* form.S[:50] @ form.Vh.T[:, :50].T\n",
    "))"
   ]
  },
  {
   "cell_type": "code",
   "execution_count": null,
   "id": "e0bb1257-777e-4e68-a69f-10ce1c9b2d77",
   "metadata": {},
   "outputs": [],
   "source": [
    "torch.save(plot_data, output_dir / 'parallel_50.pt')"
   ]
  },
  {
   "cell_type": "code",
   "execution_count": null,
   "id": "d8906ea5-b364-43e3-a110-e52cdabcdc4d",
   "metadata": {},
   "outputs": [],
   "source": []
  }
 ],
 "metadata": {
  "kernelspec": {
   "display_name": "Python (coref)",
   "language": "python",
   "name": "coref"
  },
  "language_info": {
   "codemirror_mode": {
    "name": "ipython",
    "version": 3
   },
   "file_extension": ".py",
   "mimetype": "text/x-python",
   "name": "python",
   "nbconvert_exporter": "python",
   "pygments_lexer": "ipython3",
   "version": "3.10.13"
  }
 },
 "nbformat": 4,
 "nbformat_minor": 5
}
